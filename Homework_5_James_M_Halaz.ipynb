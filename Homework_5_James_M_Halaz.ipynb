{
 "cells": [
  {
   "cell_type": "markdown",
   "id": "0bf1f371",
   "metadata": {},
   "source": [
    "# Homework 5\n",
    "____\n",
    "## Questions 1-6\n",
    "\n",
    "1. Pandas stands for \"Panel Data\", but is said to also reference \"Python Data Analysis\".\n",
    "\n",
    "1. The two collections used in Pandas are series and dataframes.\n",
    "\n",
    "1. Pandas is able to used for statistical analysis, data normalization, data visualization, and data inspection.\n",
    "1. To premanently sort a DataFrame with the df.sort() method, the key phrase would be `inplace = True`.\n",
    "1. CSV files, or comma separated value files, are plain text files with a format used recording tabular data.\n",
    "1. Contending with null values is one of the key components of cleaning and preparing data for analysis."
   ]
  },
  {
   "cell_type": "code",
   "execution_count": null,
   "id": "ce10cc1c",
   "metadata": {},
   "outputs": [
    {
     "name": "stdout",
     "output_type": "stream",
     "text": [
      "[[[1. 1.]\n",
      "  [1. 1.]\n",
      "  [1. 1.]]\n",
      "\n",
      " [[1. 1.]\n",
      "  [1. 1.]\n",
      "  [1. 1.]]]\n"
     ]
    }
   ],
   "source": [
    "### Question 7\n",
    "\n",
    "import numpy\n",
    "Ray1 = numpy.ones(12).reshape(2,3,2)\n",
    "print(Ray1)"
   ]
  },
  {
   "cell_type": "code",
   "execution_count": null,
   "id": "55541a1f",
   "metadata": {},
   "outputs": [
    {
     "name": "stdout",
     "output_type": "stream",
     "text": [
      "[ 0.  4.  8. 12. 16. 20.]\n",
      "[ 0.  4.  8. 12. 16. 20.]\n",
      "True\n"
     ]
    }
   ],
   "source": [
    "### Question 8\n",
    "\n",
    "import numpy\n",
    "Ray2 = numpy.linspace(0, 20, num = 6)\n",
    "print(Ray2)\n",
    "\n",
    "### Question 9\n",
    "import copy\n",
    "Ray3 = copy.deepcopy(Ray2)\n",
    "print(Ray3)\n",
    "print(id(Ray2) != id(Ray3))"
   ]
  },
  {
   "cell_type": "code",
   "execution_count": null,
   "id": "dfa99106",
   "metadata": {},
   "outputs": [
    {
     "name": "stdout",
     "output_type": "stream",
     "text": [
      "[[25 16]\n",
      " [11  2]\n",
      " [13  4]\n",
      " [ 7 81]\n",
      " [ 5  6]\n",
      " [11 12]]\n",
      "[[16 25]\n",
      " [ 2 11]\n",
      " [ 4 13]\n",
      " [ 7 81]\n",
      " [ 5  6]\n",
      " [11 12]]\n"
     ]
    }
   ],
   "source": [
    "### Question 10\n",
    "\n",
    "import numpy\n",
    "a_ray = ([[25, 16]])\n",
    "b_ray = ([[11, 2], [13, 4]])\n",
    "c_ray = ([[7, 81], [5, 6], [11, 12]])\n",
    "newArray = numpy.concatenate((a_ray, b_ray, c_ray))\n",
    "print(newArray)\n",
    "\n",
    "### Question 11\n",
    "\n",
    "sortedArray = numpy.sort(newArray)\n",
    "print(sortedArray)\n"
   ]
  },
  {
   "cell_type": "code",
   "execution_count": 18,
   "id": "52f1d255",
   "metadata": {},
   "outputs": [
    {
     "name": "stdout",
     "output_type": "stream",
     "text": [
      " Ray4a [1. 1. 1.] \n",
      " Ray4b [1. 1. 1.] \n",
      " Ray4c [1. 1. 1.] \n",
      " Ray4d [1. 1. 1.]\n"
     ]
    }
   ],
   "source": [
    "### Question 12\n",
    "\n",
    "import numpy\n",
    "Ray4 = Ray1.reshape(4,3)\n",
    "Ray4a, Ray4b, Ray4c, Ray4d = Ray4\n",
    "print(\" Ray4a\", Ray4a,\"\\n Ray4b\", Ray4b,\"\\n Ray4c\", Ray4c,\"\\n Ray4d\", Ray4d)"
   ]
  },
  {
   "cell_type": "code",
   "execution_count": null,
   "id": "484903a4",
   "metadata": {},
   "outputs": [
    {
     "name": "stdout",
     "output_type": "stream",
     "text": [
      "[ 0  1  2  3  4  5  6  7 10 11 12 13 14 15 16 17 20 21 22 23 24 25 26 27]\n",
      "sec1 is 1\n",
      "sec2 is [ 2  3  4  5  6  7 10 11 12 13 14 15 16 17 20 21 22 23 24 25 26 27]\n",
      "sec3 is [ 3  4  5  6  7 10 11 12 13 14 15]\n",
      "sec4 is [22 23 24 25 26 27]\n",
      "sec5 is [ 0  1  2  3  4  5  6  7 10 11 12 13 14 15]\n",
      "sec6 is [20 22 24 26]\n",
      "sec7 is [27 22 15 10  3]\n"
     ]
    }
   ],
   "source": [
    "### Question 13\n",
    "\n",
    "import numpy\n",
    "one = numpy.array([10, 11, 12, 13, 14, 15, 16, 17])\n",
    "two = numpy.array([20, 21, 22, 23, 24, 25, 26, 27])\n",
    "three = numpy.array([ 0, 1, 2, 3, 4, 5, 6, 7])\n",
    "\n",
    "comboArray = numpy.concatenate((one, two, three))\n",
    "comboArray.sort()\n",
    "print(comboArray)\n",
    "\n",
    "### Question 14\n",
    "## I was somewhat confused by the directions on this part.\n",
    "## Please let me know if I misconstrued their meanings.\n",
    "\n",
    "print(\"sec1 is\", comboArray[1])\n",
    "print(\"sec2 is\", comboArray[2:])\n",
    "print(\"sec3 is\", comboArray[3:14])\n",
    "print(\"sec4 is\", comboArray[-6:])\n",
    "print(\"sec5 is\", comboArray[-24:-10])\n",
    "print(\"sec6 is\", comboArray[16::2])\n",
    "print(\"sec7 is\", comboArray[23::-5])\n",
    "\n",
    "\n",
    "\n"
   ]
  },
  {
   "cell_type": "code",
   "execution_count": 7,
   "id": "7b534acf",
   "metadata": {},
   "outputs": [
    {
     "name": "stdout",
     "output_type": "stream",
     "text": [
      "  Ingredients  Quantity   Unit\n",
      "0       Flour         4   cups\n",
      "1        Milk         1    cup\n",
      "2        Eggs         2  large\n",
      "3        Spam         1    can\n"
     ]
    }
   ],
   "source": [
    "### Question 15\n",
    "\n",
    "import pandas\n",
    "Ingredients = pandas.Series([\"Flour\", \"Milk\", \"Eggs\", \"Spam\"], name= \"Ingredients\")\n",
    "Quantity = pandas.Series([4, 1, 2, 1], name= \"Quantity\")\n",
    "Unit = pandas.Series([\"cups\", \"cup\", \"large\", \"can\"], name= \"Unit\")\n",
    "\n",
    "Dinner = pandas.concat([Ingredients, Quantity, Unit], axis= 1)\n",
    "print(Dinner)"
   ]
  },
  {
   "cell_type": "code",
   "execution_count": 24,
   "id": "95d6adb6",
   "metadata": {},
   "outputs": [
    {
     "name": "stdout",
     "output_type": "stream",
     "text": [
      "      Name  Height Qualification  address  Age        Pets           sport\n",
      "0      Jai     5.1           Msc    Delhi   21         Dog           Darts\n",
      "1  janusha     6.2            MA     Doha   23       Bunny      Basketball\n",
      "2   Gaurav     5.1           Msc  Chennai   24  Chinchilla  PaddleBoarding\n",
      "3     Anuj     5.2           Msc   Dakhar   21      Parrot         Cricket\n",
      "      Name  Height Qualification  address  Age        Pets           sport  \\\n",
      "0      Jai     5.1           Msc    Delhi   21         Dog           Darts   \n",
      "1  janusha     6.2            MA     Doha   23       Bunny      Basketball   \n",
      "2   Gaurav     5.1           Msc  Chennai   24  Chinchilla  PaddleBoarding   \n",
      "3     Anuj     5.2           Msc   Dakhar   21      Parrot         Cricket   \n",
      "\n",
      "        dessert  \n",
      "0     ice cream  \n",
      "1  Cashew Fudge  \n",
      "2       waffels  \n",
      "3  Carrot Halwa  \n",
      "      Name  Height Qualification  address  Age        Pets           sport  \\\n",
      "3     Anuj     5.2           Msc   Dakhar   21      Parrot         Cricket   \n",
      "2   Gaurav     5.1           Msc  Chennai   24  Chinchilla  PaddleBoarding   \n",
      "0      Jai     5.1           Msc    Delhi   21         Dog           Darts   \n",
      "1  janusha     6.2            MA     Doha   23       Bunny      Basketball   \n",
      "\n",
      "        dessert  \n",
      "3  Carrot Halwa  \n",
      "2       waffels  \n",
      "0     ice cream  \n",
      "1  Cashew Fudge  \n"
     ]
    }
   ],
   "source": [
    "### Question 16\n",
    "\n",
    "import pandas\n",
    "studentinfo = {\n",
    "            'Name': ['Jai', 'janusha', 'Gaurav', 'Anuj'],\n",
    "            'Height': [5.1, 6.2, 5.1, 5.2],\n",
    "            'Qualification': ['Msc', 'MA', 'Msc', 'Msc'],\n",
    "            'address': ['Delhi', 'Doha', 'Chennai', 'Dakhar'],\n",
    "            'Age': [21, 23, 24, 21],\n",
    "            'Pets': ['Dog', 'Bunny', 'Chinchilla', 'Parrot'],\n",
    "            'sport': ['Darts', 'Basketball', 'PaddleBoarding', 'Cricket']\n",
    "        }\n",
    "studentData = pandas.DataFrame(studentinfo)\n",
    "print(studentData)\n",
    "\n",
    "### Question 17\n",
    "## I think the third element is supposed to be \"waffles\",\n",
    "#  but I wasn't sure, so I left it how it was.\n",
    "\n",
    "studentData[\"dessert\"] = [\"ice cream\", \"Cashew Fudge\", \"waffels\", \"Carrot Halwa\"]\n",
    "print(studentData)\n",
    "\n",
    "### Question 18\n",
    "\n",
    "studentData.sort_values(by= [\"Name\", \"address\"], inplace= True)\n",
    "print(studentData)"
   ]
  },
  {
   "cell_type": "code",
   "execution_count": null,
   "id": "a1710a7e",
   "metadata": {},
   "outputs": [],
   "source": [
    "### Question 19\n",
    "## Could you explain this \"disc\" you want me to save it to.\n",
    "\n",
    "import pandas\n",
    "\n",
    "df = pandas.DataFrame({'Cows': [12, 20], 'Goats': [22, 19]}, index=['Year 1', 'Year 2'])\n",
    "df.to_csv(\"cow_and_goats.csv\")\n",
    "\n",
    "### Question 20\n",
    "\n",
    "veggies = pandas.DataFrame({\"Tomato\": [20, 24, 18], \"Onion\": [12, 17, 19], \"Leek\": [8, 11, 10]}, index= [\"John\", \"Paul\", \"Ringo\"])\n",
    "veggies.to_csv(\"Veggies_1.csv\")\n",
    "\n",
    "veg2 = pandas.read_csv(\"Veggies_1.csv\", index_col= 0)\n",
    "veg3 = veg2.replace(to_replace= 10, value= 100)\n",
    "veg3.to_csv(\"Veg3.csv\")"
   ]
  }
 ],
 "metadata": {
  "kernelspec": {
   "display_name": "Python 3",
   "language": "python",
   "name": "python3"
  },
  "language_info": {
   "codemirror_mode": {
    "name": "ipython",
    "version": 3
   },
   "file_extension": ".py",
   "mimetype": "text/x-python",
   "name": "python",
   "nbconvert_exporter": "python",
   "pygments_lexer": "ipython3",
   "version": "3.13.5"
  }
 },
 "nbformat": 4,
 "nbformat_minor": 5
}
