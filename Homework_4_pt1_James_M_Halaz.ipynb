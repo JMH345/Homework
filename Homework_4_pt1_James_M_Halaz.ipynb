{
 "cells": [
  {
   "cell_type": "markdown",
   "id": "f7cf7f5b",
   "metadata": {},
   "source": [
    "# Homework 4\n",
    "### James M. Halaz\n",
    "\n",
    "_____\n",
    "## Question 1\n",
    "To use a module, you must first import the module as a whole (`ex. import math`) or import the function you want from the module (ex. `from math import pi`). To use the method under a module, you must call the module or module alias. Then put dot method you want to use and add any arguement needed for the method (ex. `math.sqrt(4)`)."
   ]
  },
  {
   "cell_type": "code",
   "execution_count": 1,
   "id": "de10f7b2",
   "metadata": {},
   "outputs": [
    {
     "name": "stdout",
     "output_type": "stream",
     "text": [
      "The square root of 9 is 3.0\n"
     ]
    }
   ],
   "source": [
    "## Question 2\n",
    "import math\n",
    "a = 9\n",
    "b = math.sqrt(a)\n",
    "print(f\"The square root of {a} is {b}\")"
   ]
  },
  {
   "cell_type": "markdown",
   "id": "33137d90",
   "metadata": {},
   "source": [
    "___\n",
    "## Question 3\n",
    "- Exception handling can be beneficial because, by excuting the trying code in the `try:` block, the `except:`, `else:`, or `finally:`blocks can be used to remedy, bypass or alert the user of errors while not crashing the program.\n",
    "\n",
    "____\n",
    "## Question 4\n",
    "- The four components for Exception handling are `try:`, `except:`, `else`, and `finally:`.\n",
    "\n",
    "____\n",
    "## Question 5\n",
    "- NumPy arrays are comparable to Python lists with the difference being arrays can have only one data type inside.\n",
    "\n",
    "____\n",
    "## Question 6\n",
    "- The main benefits of using NumPy arrays are that they are faster, more convenient, and occupy less memory than lists.\n",
    "\n",
    "____\n",
    "## Question 7\n",
    "- The main requirement of NumPy arrays is to have be homogeanous in data type across the array.\n",
    "\n",
    "____\n",
    "## Question 8\n",
    "- Two uses of NumPy are statistical operations and matrix opperations.\n",
    "\n",
    "___\n",
    "## Question 9\n",
    "- One of the libraries we will use with NumPy is Matplotlib.\n",
    "\n",
    "____\n",
    "## Question 10\n",
    "- The shape of NumPy array is a tuple of non-negative integers that specifies the dimensions, lenght, and size of each array. \n",
    "\n",
    "____\n",
    "## Question 11\n",
    "- A tensor is an array with three or more dimensions.\n",
    "\n",
    "____\n",
    "## Question 12\n",
    "- Using NumPy for data analysis is better because they are faster, more convenient, and occupy less memory than lists\n",
    "____\n",
    "## Question 13\n",
    "- The elements in an empty array come from the memory allocated for the array meaning they are unpredictable and dependent on what is in the allocated memory."
   ]
  },
  {
   "cell_type": "markdown",
   "id": "93ea7c48",
   "metadata": {},
   "source": [
    "# Flow Control Methods"
   ]
  },
  {
   "cell_type": "code",
   "execution_count": 2,
   "id": "9947a43a",
   "metadata": {},
   "outputs": [
    {
     "name": "stdout",
     "output_type": "stream",
     "text": [
      "Renting a car is very expensive.\n"
     ]
    }
   ],
   "source": [
    "## Question 1\n",
    "\n",
    "age = int(input(\"please enter an age: \"))\n",
    "if age >= 25:\n",
    "    print(\"Renting a car is more affordable.\")\n",
    "else:\n",
    "    print(\"Renting a car is very expensive.\")"
   ]
  },
  {
   "cell_type": "code",
   "execution_count": 5,
   "id": "49ae5c3b",
   "metadata": {},
   "outputs": [
    {
     "name": "stdout",
     "output_type": "stream",
     "text": [
      "Renting a car is more affordable.\n"
     ]
    }
   ],
   "source": [
    "## Question 2\n",
    "\n",
    "age = int(input(\"please enter an age: \"))\n",
    "if age >= 25:\n",
    "    print(\"Renting a car is more affordable.\")\n",
    "elif 25 > age >= 18:\n",
    "    print(\"Renting a car is very expensive.\")\n",
    "else:\n",
    "    print(\"You cannot legally rent a car.\")"
   ]
  },
  {
   "cell_type": "code",
   "execution_count": null,
   "id": "9f86c42e",
   "metadata": {},
   "outputs": [
    {
     "name": "stdout",
     "output_type": "stream",
     "text": [
      "The number of characters in the sentence including spaces is 43\n",
      "The number of characters in the sentence not including spaces is 35\n",
      "The number of vowels not including (y) in the sentence is 11\n",
      "The number of vowels including (y) is 12\n"
     ]
    }
   ],
   "source": [
    "## Question 3\n",
    "### I am not sure if you want whitespace characters counted so I did both\n",
    "### I am not sure if you are counting (y) as a vowel so I did both\n",
    "A_string = \"The quick brown fox jumps over the lazy dog\"\n",
    "char_count_spaces = 0\n",
    "char_count_no_spaces = 0\n",
    "vowels = (\"a\", \"e\", \"i\", \"o\", \"u\")\n",
    "y_count = 0\n",
    "vowel_count = 0\n",
    "\n",
    "### I used .isalnum() over .strip() so I could do both counts in the same loop\n",
    "for char in A_string:\n",
    "    char_count_spaces += 1\n",
    "    if char.isalnum() == True:\n",
    "        char_count_no_spaces += 1\n",
    "    if char.lower() in vowels:\n",
    "        vowel_count += 1\n",
    "    if char.lower() == \"y\":\n",
    "        y_count += 1\n",
    "\n",
    "print(\"The number of characters in the sentence including spaces is\", char_count_spaces)\n",
    "print(\"The number of characters in the sentence not including spaces is\", char_count_no_spaces)\n",
    "print(\"The number of vowels not including (y) is\", vowel_count)\n",
    "print(\"The number of vowels including (y) is\", y_count + vowel_count)\n"
   ]
  },
  {
   "cell_type": "code",
   "execution_count": null,
   "id": "9d074430",
   "metadata": {},
   "outputs": [],
   "source": [
    "## Question 4\n",
    "\n",
    "couture = [\"trousers\", \"blouse\", \"bandana\", \"cumber band\", \"blazer\", \"vest\", \"french beret\", \"scarf\", \"stole\"]\n",
    "panettone = {\"cerise\", \"fuchsia\", \"aqua\", \"maple\", \"auburn\", \"burnt sienna\", \"gunmetal blue\", \"Dark Sapphire\"}\n",
    "\n",
    "for piece in couture:\n",
    "    for color in panettone:\n",
    "        print(color, piece)"
   ]
  },
  {
   "cell_type": "code",
   "execution_count": 19,
   "id": "e52882dd",
   "metadata": {},
   "outputs": [
    {
     "name": "stdout",
     "output_type": "stream",
     "text": [
      "The total of numbers 1 to 100 is 5050\n"
     ]
    }
   ],
   "source": [
    "## Question 5\n",
    "total_sum = 0\n",
    "for n in range(1,101):\n",
    "    total_sum += n\n",
    "print(\"The total of numbers 1 to 100 is\", total_sum)"
   ]
  },
  {
   "cell_type": "code",
   "execution_count": null,
   "id": "256b7f65",
   "metadata": {},
   "outputs": [
    {
     "name": "stdout",
     "output_type": "stream",
     "text": [
      "The second item in fruits list is banana\n"
     ]
    }
   ],
   "source": [
    "## Question 6\n",
    "fruits_list = [\"apple\", \"banana\", \"cherry\"]\n",
    "print(\"The second item in fruits list is\", fruits_list[1])\n"
   ]
  },
  {
   "cell_type": "code",
   "execution_count": 22,
   "id": "d1393332",
   "metadata": {},
   "outputs": [
    {
     "name": "stdout",
     "output_type": "stream",
     "text": [
      "Fruits list is now ['kiwi', 'banana', 'cherry']\n"
     ]
    }
   ],
   "source": [
    "## Question 7\n",
    "fruits_list = [\"apple\", \"banana\", \"cherry\"]\n",
    "fruits_list[0] = \"kiwi\"\n",
    "print(\"Fruits list is now\", fruits_list)"
   ]
  },
  {
   "cell_type": "code",
   "execution_count": 23,
   "id": "767d6316",
   "metadata": {},
   "outputs": [
    {
     "name": "stdout",
     "output_type": "stream",
     "text": [
      "['apple', 'banana', 'cherry', 'orange']\n"
     ]
    }
   ],
   "source": [
    "## Question 8\n",
    "fruits_list = [\"apple\", \"banana\", \"cherry\"]\n",
    "fruits_list.append(\"orange\")\n",
    "print(fruits_list)"
   ]
  },
  {
   "cell_type": "code",
   "execution_count": 24,
   "id": "22be35ec",
   "metadata": {},
   "outputs": [
    {
     "name": "stdout",
     "output_type": "stream",
     "text": [
      "['apple', 'lemon', 'banana', 'cherry']\n"
     ]
    }
   ],
   "source": [
    "## Question 9\n",
    "fruits_list = [\"apple\", \"banana\", \"cherry\"]\n",
    "fruits_list.insert(1, \"lemon\")\n",
    "print(fruits_list)"
   ]
  },
  {
   "cell_type": "code",
   "execution_count": 25,
   "id": "58673b93",
   "metadata": {},
   "outputs": [
    {
     "name": "stdout",
     "output_type": "stream",
     "text": [
      "['apple', 'cherry']\n"
     ]
    }
   ],
   "source": [
    "## Question 10\n",
    "fruits_list = [\"apple\", \"banana\", \"cherry\"]\n",
    "fruits_list.remove(\"banana\")\n",
    "print(fruits_list)"
   ]
  },
  {
   "cell_type": "code",
   "execution_count": 29,
   "id": "8e2f3cbb",
   "metadata": {},
   "outputs": [
    {
     "name": "stdout",
     "output_type": "stream",
     "text": [
      "['kiwi', 'melon']\n"
     ]
    }
   ],
   "source": [
    "## Question 11\n",
    "fruits_list =  [\"apple\", \"banana\", \"cherry\", \"orange\", \"kiwi\", \"melon\", \"mango\"]\n",
    "print(fruits_list[-3:-1])"
   ]
  },
  {
   "cell_type": "code",
   "execution_count": null,
   "id": "694f77cb",
   "metadata": {},
   "outputs": [
    {
     "name": "stdout",
     "output_type": "stream",
     "text": [
      "['cherry', 'orange', 'kiwi']\n"
     ]
    }
   ],
   "source": [
    "## Question 12\n",
    "fruits_list =  [\"apple\", \"banana\", \"cherry\", \"orange\", \"kiwi\", \"melon\", \"mango\"]\n",
    "print(fruits_list[2:5])"
   ]
  },
  {
   "cell_type": "code",
   "execution_count": 31,
   "id": "1624e4a7",
   "metadata": {},
   "outputs": [
    {
     "name": "stdout",
     "output_type": "stream",
     "text": [
      "The length of the list is 7\n"
     ]
    }
   ],
   "source": [
    "## Question 13\n",
    "fruits_list =  [\"apple\", \"banana\", \"cherry\", \"orange\", \"kiwi\", \"melon\", \"mango\"]\n",
    "print(\"The length of the list is\", len(fruits_list))"
   ]
  },
  {
   "cell_type": "code",
   "execution_count": 39,
   "id": "9d23a696",
   "metadata": {},
   "outputs": [
    {
     "name": "stdout",
     "output_type": "stream",
     "text": [
      "The reverse list is ['mango', 'melon', 'kiwi', 'orange', 'cherry', 'banana', 'apple']\n"
     ]
    }
   ],
   "source": [
    "## Question 14\n",
    "fruits_list = [\"apple\", \"banana\", \"cherry\", \"orange\", \"kiwi\", \"melon\", \"mango\"]\n",
    "fruits_list.reverse()\n",
    "print(\"The reverse list is\", fruits_list)"
   ]
  },
  {
   "cell_type": "code",
   "execution_count": null,
   "id": "2cc0b1a2",
   "metadata": {},
   "outputs": [],
   "source": [
    "## Question 15\n",
    "import datetime\n",
    "Present = datetime.datetime.now()\n",
    "current_m = Present.strftime(\"%B\")\n",
    "print(current_m)\n",
    "\n",
    "## Question 16\n",
    "def greetings(first_name, day_name=\"Sunday\"):\n",
    "    print(f\"Hi {first_name}! Today is {day_name}.\")\n",
    "\n",
    "greetings(\"Mikey\", \"Thursday\")\n",
    "greetings(\"Sakura\")\n",
    "\n",
    "## Question 17\n",
    "color_list = [\"aqua\", \"teal\", \"azure\", \"crimson\"]\n",
    "color_num = int(input(\"Select a color number: \"))\n",
    "try:\n",
    "    print(\"Your color is\", color_list[color_num])\n",
    "except IndexError:\n",
    "    print(\"I have not come up with a color for that number.\")\n",
    "else:\n",
    "    print(f\"{color_list[color_num]} is a nice color\")\n",
    "finally:\n",
    "    print(\"Do your want to help me come up with more colors for numbers\")"
   ]
  }
 ],
 "metadata": {
  "kernelspec": {
   "display_name": "Python 3",
   "language": "python",
   "name": "python3"
  },
  "language_info": {
   "codemirror_mode": {
    "name": "ipython",
    "version": 3
   },
   "file_extension": ".py",
   "mimetype": "text/x-python",
   "name": "python",
   "nbconvert_exporter": "python",
   "pygments_lexer": "ipython3",
   "version": "3.13.5"
  }
 },
 "nbformat": 4,
 "nbformat_minor": 5
}
