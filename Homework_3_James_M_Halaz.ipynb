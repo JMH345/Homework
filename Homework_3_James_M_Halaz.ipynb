{
 "cells": [
  {
   "cell_type": "markdown",
   "id": "98ec1636",
   "metadata": {},
   "source": [
    "# Homework 03 \n",
    "### James M. Halaz\n",
    "____\n",
    "## Questions - Data Types\n",
    "1. An algorithm is a series of steps to solve a problem at hand\n",
    "1. Variable names may not start with a number, like 5, or an operator, like +.\n",
    "1. A semantic error is an error where the syntax is correct, but does not make any sense, such as adding a bool to an integer.\n",
    "1. The #1 rule of debugging is complexity is the enemy of efficiency.\n",
    "1. Five reserved words in Python are \"if\", \"while\", \"for\", \"elif\", and \"else\".\n"
   ]
  },
  {
   "cell_type": "markdown",
   "id": "d7d751d1",
   "metadata": {},
   "source": [
    "### Questions 6-9"
   ]
  },
  {
   "cell_type": "code",
   "execution_count": null,
   "id": "d8d5c9d7",
   "metadata": {},
   "outputs": [
    {
     "name": "stdout",
     "output_type": "stream",
     "text": [
      "String length for string_01 is  23\n",
      "The fourth character in string_01 is the character k\n",
      "ing Data Analytics \n",
      "19\n",
      "Learning Data Analytics and Python is great!\n",
      "The word Python is in variable savvy.\n",
      "It is located at index 28\n",
      "Learning Data Analytics and Python is great!\n",
      "Hi my name is James, I am 71 inches and 34 years old today.\n",
      "34.0\n"
     ]
    }
   ],
   "source": [
    "## Question 6\n",
    "name_food_job = \"\"\"\n",
    "My name is James.\n",
    "My favorite food is pasta con broccoli.\n",
    "My dream job would some sort of researcher or analyst.\n",
    "\"\"\"\n",
    "\n",
    "## Question 7\n",
    "bool_01 = True\n",
    "float_01 = 74.5\n",
    "int_01 = 46\n",
    "string_01 = \"Darkest before the dawn\"\n",
    "list_01 = [\"fire\", \"water\", \"earth\", \"air\"]\n",
    "length_str = len(string_01)\n",
    "print(\"String length for string_01 is \", length_str)\n",
    "print(\"The fourth character in string_01 is the character\", string_01[3])\n",
    "\n",
    "\n",
    "## Question 8\n",
    "savvy = \"Learning Data Analytics and Python is Awesome!\"\n",
    "# find and print sub string\n",
    "sub_str_savvy = savvy[5:24]\n",
    "print(sub_str_savvy)\n",
    "print(len(sub_str_savvy)) # used len() to confirm space carried over\n",
    "# replacing \"Awesome\" with \"great\"\n",
    "savvy = savvy.replace(\"Awesome\", \"great\")\n",
    "print(savvy) # comfirming replacement\n",
    "# test and print for \"Python\" in variable savvy\n",
    "if \"Python\" in savvy:\n",
    "    print(\"The word Python is in variable savvy.\")\n",
    "    print(\"It is located at index\", savvy.find(\"Python\"))\n",
    "    print(savvy)\n",
    "else:\n",
    "    print(\"The word Python is not in variable savvy.\")\n",
    "    print(savvy)\n",
    "\n",
    "\n",
    "## Question 9\n",
    "name, age, length = \"James\", 34, \"71 inches\"\n",
    "miniBio = f\"Hi my name is {(name)}, I am {length} and {age} years old today.\"\n",
    "print(miniBio)\n",
    "print(float(age))"
   ]
  },
  {
   "cell_type": "markdown",
   "id": "d039062c",
   "metadata": {},
   "source": [
    "## Complex data types"
   ]
  },
  {
   "cell_type": "markdown",
   "id": "34771f91",
   "metadata": {},
   "source": [
    "### Question 10"
   ]
  },
  {
   "cell_type": "code",
   "execution_count": 1,
   "id": "ced444ef",
   "metadata": {},
   "outputs": [
    {
     "name": "stdout",
     "output_type": "stream",
     "text": [
      "[True, 39, 'Snake', 3.14, 'Horse']\n",
      "[False, 64, 'Snake', 3.14, 'Horse']\n",
      "alpha_list is 8 items long\n",
      "[False, 'Monkey', 64, 'Snake', 3.14, 'Horse', 23, 'Dragon']\n",
      "[False, 'Monkey', 64, 'Snake', 3.14, 'Horse', 23, 'Dragon']\n",
      "['Snake', 3.14, 'Horse'] is the second list.\n",
      "[False, 'Monkey', 64, 'Snake', 3.14, 'Horse', 23, 'Dragon', 'Snake', 3.14, 'Horse']\n",
      "['Dog', 'Ox', 'Pig', 'Rat', 'Tiger']\n",
      "This is the third list ['Dog', 'Ox', 'Pig', 'Rat', 'Tiger']\n",
      "['Snake', 3.14, 'Horse', 'Dog', 'Ox', 'Pig', 'Rat', 'Tiger']\n"
     ]
    }
   ],
   "source": [
    "## Question 10\n",
    "alpha_list = [True, 39, \"Snake\", 3.14, \"Horse\"]\n",
    "# check original list\n",
    "print(alpha_list)\n",
    "# replace and check list\n",
    "alpha_list[0:2] = [False, 64]\n",
    "print(alpha_list)\n",
    "# append items to list and check list length\n",
    "alpha_list.append(\"Dragon\")\n",
    "alpha_list.insert(1, \"Monkey\")\n",
    "alpha_list.insert(6, 23)\n",
    "alpha_leng = len(alpha_list)\n",
    "print(f\"alpha_list is {alpha_leng} items long\")\n",
    "print(alpha_list)\n",
    "# slice section of first list to second list \n",
    "# and print second list\n",
    "beta_list = alpha_list[3:6]\n",
    "print(alpha_list)\n",
    "print(beta_list, \"is the second list.\")\n",
    "# extend first list with second list\n",
    "alpha_list.extend(beta_list)\n",
    "print(alpha_list)\n",
    "# create, sort, and print simList\n",
    "simList = [\"Rat\", \"Pig\", \"Tiger\", \"Ox\", \"Dog\"]\n",
    "simList.sort()\n",
    "print(simList)\n",
    "# copy simList to third list\n",
    "### since no compound objects are present .copy() is sufficient\n",
    "gamma_list = simList.copy()\n",
    "print(f\"This is the third list {gamma_list}\")\n",
    "# fourth list from combining second and third\n",
    "delta_list = beta_list + gamma_list\n",
    "print(delta_list)\n"
   ]
  },
  {
   "cell_type": "markdown",
   "id": "292ec6bb",
   "metadata": {},
   "source": [
    "### Question 11"
   ]
  },
  {
   "cell_type": "code",
   "execution_count": 2,
   "id": "ab55c6e0",
   "metadata": {},
   "outputs": [
    {
     "name": "stdout",
     "output_type": "stream",
     "text": [
      "(44, 60, 93, 84, 17, 44, 60, 93, 84, 17, 44, 60, 93, 84, 17)\n",
      "The 12th element is 60\n",
      "(17, 17, 17, 44, 44, 44, 60, 60, 60, 84, 84, 84, 93, 93, 93)\n",
      "(44, 60, 84, 17)\n",
      "4\n",
      "A = 44, B = 60, C = 84, and D = 17\n",
      "(50,)\n",
      "(44, 60, 93, 84, 17, 44, 60, 93, 84, 17, 44, 60, 93, 84, 17, 44, 60, 84, 17)\n"
     ]
    }
   ],
   "source": [
    "## Question 11\n",
    "tuple_01 = (44, 60, 93, 84, 17)\n",
    "# multiple first tuple by three and check\n",
    "tuple_02 = tuple_01 * 3\n",
    "print(tuple_02)\n",
    "# print 12th element for second tuple\n",
    "print(\"The 12th element is\", tuple_02[11])\n",
    "# sort and print second tuple\n",
    "### had to cast to tuple because sorted() gave a list\n",
    "sorting_tup = tuple(sorted(tuple_02))\n",
    "print(sorting_tup)\n",
    "# copy four elements from second tuple to third tuple\n",
    "tuple_03 = (tuple_02[0], tuple_02[1], tuple_02[3], tuple_02[-1])\n",
    "print(tuple_03)\n",
    "# unpack third tuple to variables\n",
    "print(len(tuple_03))\n",
    "(A, B, C, D) = tuple_03\n",
    "print(f\"A = {A}, B = {B}, C = {C}, and D = {D}\")\n",
    "# make and print fourth tuple\n",
    "tuple_04 = (50,)\n",
    "print(tuple_04)\n",
    "# add second and third tuples to make a fifth tuple\n",
    "# and print\n",
    "tuple_05 = tuple_02 + tuple_03\n",
    "print(tuple_05)"
   ]
  },
  {
   "cell_type": "markdown",
   "id": "86e77e80",
   "metadata": {},
   "source": [
    "### Question 12"
   ]
  },
  {
   "cell_type": "code",
   "execution_count": 3,
   "id": "b62e484c",
   "metadata": {},
   "outputs": [
    {
     "name": "stdout",
     "output_type": "stream",
     "text": [
      "{'papaya', True, 'snow', 'mango', 'dragonfruit', 'kiwi', 'rain'}\n",
      "{'papaya', True, 'snow', 'mango', 'dragonfruit', 'Thunderbird', 'kiwi', 'rain'}\n",
      "{'papaya', True, False, 'pizza', 'shovel', 'snow', 'mango', 747, 'dragonfruit', 'Thunderbird', 'kiwi', 'rain'}\n",
      "Second set is now {'pizza', 'shovel', 747}\n",
      "First set is now set()\n",
      "Remainder of third set is {'papaya', True, False, 'pizza', 'shovel', 'snow', 'dragonfruit', 'Thunderbird', 'kiwi', 'rain'}\n"
     ]
    }
   ],
   "source": [
    "## Question 12\n",
    "alpha_set = {\"rain\", \"snow\", True}\n",
    "# add list of fruits to set and print\n",
    "fruit_list = [\"papaya\", \"mango\", \"kiwi\", \"dragonfruit\"]\n",
    "alpha_set.update(fruit_list)\n",
    "print(alpha_set)\n",
    "# add car element\n",
    "alpha_set.add(\"Thunderbird\")\n",
    "print(alpha_set)\n",
    "# create second set and union with first set to make third\n",
    "beta_set = {\"shovel\", 747, \"pizza\", False}\n",
    "gamma_set = alpha_set.union(beta_set)\n",
    "print(gamma_set)\n",
    "# pop element from second set and print second set\n",
    "beta_set.pop()\n",
    "print(f\"Second set is now\", beta_set)\n",
    "# clear then print first set\n",
    "alpha_set.clear()\n",
    "print(\"First set is now\", alpha_set)\n",
    "# discard element in third set, remove element in third set,\n",
    "# and print third set\n",
    "gamma_set.discard(747)\n",
    "gamma_set.remove(\"mango\")\n",
    "print(\"Remainder of third set is\", gamma_set)"
   ]
  },
  {
   "cell_type": "markdown",
   "id": "15102715",
   "metadata": {},
   "source": [
    "### Question 13"
   ]
  },
  {
   "cell_type": "code",
   "execution_count": 4,
   "id": "aee09bcf",
   "metadata": {},
   "outputs": [
    {
     "name": "stdout",
     "output_type": "stream",
     "text": [
      "falcon\n",
      "{'z': False, 'y': 3.14, 'x': 'falcon', 'w': 88, 'v': 'James'}\n",
      "{'z': False, 'y': 3.14, 'x': 'falcon', 'w': 88, 'v': 'James', 'u': 'forest green'}\n",
      "{'z': False, 'y': 3.14, 'x': 'falcon', 'w': 88, 'v': 'James', 'u': 'forest green', 't': [True, False, False]}\n",
      "The keys are dict_keys(['z', 'y', 'x', 'w', 'v', 'u', 't'])\n",
      "The values are dict_values([False, 3.14, 'falcon', 88, 'James', 'forest green', [True, False, False]])\n",
      "Second dictionary after pop:\n",
      " {'z': False, 'y': 3.14, 'x': 'falcon', 'v': 'James', 'u': 'forest green', 't': [True, False, False]}\n",
      "Second dictionary after removal: {}\n"
     ]
    }
   ],
   "source": [
    "## Question 13\n",
    "dict1 = {\"z\": False, \"y\": 3.14, \"x\": \"falcon\", \"w\": 88, \"v\": [\"cat\", \"dog\"]}\n",
    "# print one value\n",
    "print(dict1.get(\"x\"))\n",
    "# replace value with name\n",
    "dict1[\"v\"] = \"James\"\n",
    "print(dict1)\n",
    "# add favorite color to dictionary\n",
    "dict1[\"u\"] = \"forest green\"\n",
    "print(dict1)\n",
    "# add list to dictionary\n",
    "dict1.update({\"t\": [True, False, False]})\n",
    "print(dict1)\n",
    "# print dictionary keys and print dictionary values\n",
    "print(\"The keys are\", dict1.keys())\n",
    "print(\"The values are\", dict1.values())\n",
    "# copy first dictionary to second dictionary\n",
    "### since dictionary contains a list deepcopy() needed\n",
    "import copy\n",
    "dict2 = copy.deepcopy(dict1)\n",
    "# pop item from second dictionary and print second dictionary\n",
    "dict2.pop(\"w\")\n",
    "print(\"Second dictionary after pop:\\n\", dict2)\n",
    "# remove all elements from second dictionary and print second dictionary\n",
    "dict2.clear()\n",
    "print(\"Second dictionary after removal:\", dict2)"
   ]
  }
 ],
 "metadata": {
  "kernelspec": {
   "display_name": "Python 3",
   "language": "python",
   "name": "python3"
  },
  "language_info": {
   "codemirror_mode": {
    "name": "ipython",
    "version": 3
   },
   "file_extension": ".py",
   "mimetype": "text/x-python",
   "name": "python",
   "nbconvert_exporter": "python",
   "pygments_lexer": "ipython3",
   "version": "3.13.5"
  }
 },
 "nbformat": 4,
 "nbformat_minor": 5
}
